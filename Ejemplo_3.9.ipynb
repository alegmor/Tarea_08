{
 "cells": [
  {
   "cell_type": "markdown",
   "id": "2e1f8f3d",
   "metadata": {
    "deletable": false,
    "editable": false,
    "nbgrader": {
     "cell_type": "markdown",
     "checksum": "a3171dd6cc3c229ae9cd155f8b083d6f",
     "grade": false,
     "grade_id": "cell-3e4799043ad213f5",
     "locked": true,
     "schema_version": 3,
     "solution": false,
     "task": false
    }
   },
   "source": [
    "<div>\n",
    "<img align=\"center\"\n",
    "src=\"Images/HT-banner-CAP3.png\"  width=\"950\" height=\"9500\"/>\n",
    "</div>\n",
    "\n",
    "<font color='#09427D'><center>**TRANSFERENCIA DE CALOR EN SUPERFICIES EXTENDIDAS**</font>\n",
    "    \n",
    "<font color='#09427D'><center>**ALETAS DE ÁREA DE SECCIÓN TRANSVERSAL UNIFORME**</font>\n",
    "    \n",
    "    \n",
    "<font color='#09427D'><center>**EJEMPLO 3.9**</font>"
   ]
  },
  {
   "cell_type": "markdown",
   "id": "1bbfb543",
   "metadata": {},
   "source": [
    "Una varilla muy larga de 5 mm de diámetro tiene un extremo que se mantiene a $100 ^\\circ\\mathrm{C}$. La superficie de la varilla  se expone al aire ambiente a $25 ^\\circ\\mathrm{C}$ con un coeficiente de transferencia de calor por convección de $100 \\mathrm{W/m^2\\cdot K}$.\n",
    "\n",
    "1. Determine las distribuciones de temperaturas a lo largo de las varillas construidas de cobre puro, aleación de aluminio 2024 y acero  inoxidable tipo AISI 316. ¿Cuáles son las pérdidas de calor correspondientes de las varillas?.\n",
    "2. Calcule el largo de las varillas para que la suposición de una longitud infinita de una estimacióne exacta dé la pérdida de calor."
   ]
  },
  {
   "cell_type": "markdown",
   "id": "0fe15fcf",
   "metadata": {},
   "source": [
    "<div>\n",
    "<img align=\"center\"\n",
    "src=\"Images/P239.jpg\"  width=\"500\" height=\"500\"/>\n",
    "</div>"
   ]
  },
  {
   "cell_type": "markdown",
   "id": "bd4a46c4",
   "metadata": {},
   "source": [
    "La forma general de la ecuación de energías para condiciones unidimensionales en una superficie extendida es\n",
    "\n",
    "$$\\dfrac{d^2T}{dx^2}+ \\left(\\dfrac{1}{A_c} \\dfrac{d A_c}{dx} \\right) \\dfrac{d T}{dx} - \\left( \\dfrac{1}{A_c} \\dfrac{h}{k} \\dfrac{d A_s}{dx} \\right) (1)$$\n",
    "\n",
    "En el caso para el área de sección transversal $Ac$ constante y el área de superficie $A_s(x) = Px$, la ecuación anterior es\n",
    "\n",
    "$$\\dfrac{d^2 T}{d x^2}- \\dfrac{hP}{k A_c}(T-T_{\\infty})=0.  $$\n",
    "\n",
    "Se define $\\theta(x)= T(x)-T_{\\infty}$ como el exceso de temperatura lejos de la aleta.\n",
    "\n",
    "La ecuación (1) toma la forma\n",
    "\n",
    "$$\\dfrac{d^2 \\theta}{d x^2}- m^2\\theta=0,$$\n",
    "\n",
    "con $m^2 = \\dfrac{hP}{kA_c}$.\n",
    "\n",
    "La solución general de la ecuación anterior es \n",
    "\n",
    "$$\\theta(x) = C_1 e^{mx}+C_2 e^{-mx}$$\n",
    "\n",
    "Para evaluar las constantes $C_1$ y $C_2$ es necesario especificar las condiciones de frontera.\n",
    "\n",
    "La primera condición de frontera es considerar que se conoce la temperatura donde se encuentra la aleta y la superficie que se expande $\\theta(x=0)$\n",
    "\n",
    "$$\\theta(0)= T_b -T_\\infty = \\theta_b$$\n",
    "\n",
    "La segunda condición de frontera es considerar una aleta cuya temperatura del extremo $\\theta_L$ tienda a cero, es decir\n",
    "\n",
    "$$L \\rightarrow \\infty, \\theta_L \\rightarrow 0$$.\n",
    "\n",
    "Sustituimos la primera condición de frontera\n",
    "\n",
    "$$\\theta(x=0)=C_1 e^{m(0)}+C_2 e^{-m(0)}= \\theta_b,$$\n",
    "\n",
    "Sustituimos la segunda condición de frontera\n",
    "\n",
    "$$\\theta(x=L) = C_1 e^{mL} + C_2 e^{-mL} = 0$$\n",
    "\n",
    "La solución toma la forma\n",
    "\n",
    "$$\\dfrac{\\theta}{\\theta_b} =  e^{-mx}$$\n",
    "\n",
    "y el flujo de calor es\n",
    "\n",
    "$$q_f = \\sqrt{hPkA_c} \\theta_b$$\n",
    "\n",
    "\n",
    "La distribución de temperatura para el caso de una varilla muy larga es\n",
    "\n",
    "$$\\dfrac{\\theta}{\\theta_b} =  e^{-mx}$$\n",
    "\n",
    "\n",
    "con $\\theta_b = T_b -T_\\infty$ y $\\theta(x)= T(x)-T_{\\infty}$\n",
    "\n",
    "$$T (x )=  T_{\\infty} + (T_b-T_{\\infty})e^{-mx} $$\n"
   ]
  },
  {
   "cell_type": "code",
   "execution_count": null,
   "id": "e3421ab5",
   "metadata": {
    "deletable": false,
    "editable": false,
    "nbgrader": {
     "cell_type": "code",
     "checksum": "58ea84224641be12709a5837ce597127",
     "grade": false,
     "grade_id": "cell-322942e5c599638f",
     "locked": true,
     "schema_version": 3,
     "solution": false,
     "task": false
    }
   },
   "outputs": [],
   "source": [
    "import numpy as np\n",
    "import matplotlib.pyplot as plt\n",
    "from macti.evaluacion import Evalua"
   ]
  },
  {
   "cell_type": "code",
   "execution_count": null,
   "id": "6ed03459",
   "metadata": {
    "deletable": false,
    "nbgrader": {
     "cell_type": "code",
     "checksum": "264ddfaecf8e934286436d94a4a0a028",
     "grade": false,
     "grade_id": "cell-71b0ea19fdf37346",
     "locked": false,
     "schema_version": 3,
     "solution": true,
     "task": false
    }
   },
   "outputs": [],
   "source": [
    "def T(Tinf,Tb,x,h,k,D):\n",
    "    # YOUR CODE HERE\n",
    "    raise NotImplementedError()\n",
    "    return T"
   ]
  },
  {
   "cell_type": "code",
   "execution_count": null,
   "id": "65263c6a",
   "metadata": {
    "deletable": false,
    "editable": false,
    "nbgrader": {
     "cell_type": "code",
     "checksum": "cb9e2ae2f1cd566fb98dbf75efba4787",
     "grade": false,
     "grade_id": "cell-7a400a0217f88ed0",
     "locked": true,
     "schema_version": 3,
     "solution": false,
     "task": false
    }
   },
   "outputs": [],
   "source": [
    "#Tabla A.1 cobre, aleación de aluminio 2024 y acero inoxidable AISI 316\n",
    "kc   = 398\n",
    "ka   = 180\n",
    "kss  = 14\n",
    "\n",
    "h    = 100\n",
    "Tinf = 25\n",
    "Tb   = 100\n",
    "D    = 0.005\n",
    "x    = np.arange(0,0.3,0.01)"
   ]
  },
  {
   "cell_type": "code",
   "execution_count": null,
   "id": "b51f5104",
   "metadata": {
    "deletable": false,
    "editable": false,
    "nbgrader": {
     "cell_type": "code",
     "checksum": "0eb3467fcf33725b52824c20567826de",
     "grade": false,
     "grade_id": "cell-09aaa21cea52e456",
     "locked": true,
     "schema_version": 3,
     "solution": false,
     "task": false
    }
   },
   "outputs": [],
   "source": [
    "plt.plot(x*1000,T(Tinf,Tb,x,h,kc,D))\n",
    "plt.plot(x*1000,T(Tinf,Tb,x,h,ka,D))\n",
    "plt.plot(x*1000,T(Tinf,Tb,x,h,kss,D))\n",
    "plt.xlim(0,300)\n",
    "plt.ylim(20,100)\n",
    "plt.grid()\n",
    "plt.show()"
   ]
  },
  {
   "cell_type": "code",
   "execution_count": null,
   "id": "9c21a021",
   "metadata": {
    "deletable": false,
    "nbgrader": {
     "cell_type": "code",
     "checksum": "4ed68531cfd4dd4fe2160b61ac4d8999",
     "grade": false,
     "grade_id": "cell-d05305dd3a77f201",
     "locked": false,
     "schema_version": 3,
     "solution": true,
     "task": false
    }
   },
   "outputs": [],
   "source": [
    "def qf(h,D,k,Tb,Tinf):\n",
    "    # YOUR CODE HERE\n",
    "    raise NotImplementedError()\n",
    "    return qf"
   ]
  },
  {
   "cell_type": "code",
   "execution_count": null,
   "id": "5e158280",
   "metadata": {
    "deletable": false,
    "nbgrader": {
     "cell_type": "code",
     "checksum": "dc9705ff4f61e90cf9ff2d2faf2370e8",
     "grade": false,
     "grade_id": "cell-36e516955e730977",
     "locked": false,
     "schema_version": 3,
     "solution": true,
     "task": false
    }
   },
   "outputs": [],
   "source": [
    "def Linf(k,D,h):\n",
    "    # YOUR CODE HERE\n",
    "    raise NotImplementedError()\n",
    "    return L"
   ]
  },
  {
   "cell_type": "code",
   "execution_count": null,
   "id": "5e8c40df",
   "metadata": {
    "deletable": false,
    "editable": false,
    "nbgrader": {
     "cell_type": "code",
     "checksum": "2e13b838819c4f46094c31ff7580992e",
     "grade": false,
     "grade_id": "cell-472e90175c6804c1",
     "locked": true,
     "schema_version": 3,
     "solution": false,
     "task": false
    }
   },
   "outputs": [],
   "source": [
    "Linf(kc,D,h),Linf(ka,D,h),Linf(kss,D,h)"
   ]
  }
 ],
 "metadata": {
  "kernelspec": {
   "display_name": "Python 3 (ipykernel)",
   "language": "python",
   "name": "python3"
  },
  "language_info": {
   "codemirror_mode": {
    "name": "ipython",
    "version": 3
   },
   "file_extension": ".py",
   "mimetype": "text/x-python",
   "name": "python",
   "nbconvert_exporter": "python",
   "pygments_lexer": "ipython3",
   "version": "3.9.7"
  }
 },
 "nbformat": 4,
 "nbformat_minor": 5
}
